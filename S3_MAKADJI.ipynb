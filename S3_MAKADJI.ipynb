{
 "cells": [
  {
   "cell_type": "code",
   "execution_count": 6,
   "metadata": {},
   "outputs": [
    {
     "name": "stdout",
     "output_type": "stream",
     "text": [
      "6\n"
     ]
    }
   ],
   "source": [
    "import numpy as np\n",
    "a = np.array([[1, 2, 3], [4, 5, 6]])\n",
    "print(a[1,2])"
   ]
  },
  {
   "cell_type": "code",
   "execution_count": 7,
   "metadata": {},
   "outputs": [
    {
     "data": {
      "text/plain": [
       "31"
      ]
     },
     "execution_count": 7,
     "metadata": {},
     "output_type": "execute_result"
    }
   ],
   "source": [
    "def f(x):\n",
    "    return x**3+2*x-2\n",
    "f(3)\n"
   ]
  },
  {
   "cell_type": "code",
   "execution_count": 8,
   "metadata": {},
   "outputs": [],
   "source": [
    "def f(x):\n",
    "    return x**3+2*x-2\n",
    "def plot_f(function,interv=[0,1], step=1e-2):\n",
    "\n",
    "    import matplotlib.pyplot as plt\n",
    "    import numpy as np\n",
    "    \n",
    "    x_list= np.arrange(0,1,step)\n",
    "    plt.plot(x_list, f(x_list),linewidth=3)\n",
    "    plt.xlim(interv)\n",
    "    plt.xlabel(\"x\",size=12)\n",
    "    plt.ylabel(\"f(x)\",size=12)\n",
    "    plt.hlines(0,interv[0],interv[1],linestyle='--',linewidth=1)\n",
    "    plt.show\n",
    "    \n",
    "    def est_monotone(interv=[0,1],step=1e-1):\n",
    "        import numpy as np\n",
    "        x_list = np.arrange(interv[0]+step,interv[1]+step,step)\n",
    "        previous_val = f(interv[0])\n",
    "        \n",
    "        for x in x_list:\n",
    "            val = f(x)\n",
    "            if val <= previous_val:\n",
    "                print(\"f(x) n'est pas strictement monotone\")\n",
    "                return\n",
    "            print(\"f(x) semble strictement monotone\")\n",
    "            return"
   ]
  },
  {
   "cell_type": "code",
   "execution_count": null,
   "metadata": {},
   "outputs": [],
   "source": []
  }
 ],
 "metadata": {
  "kernelspec": {
   "display_name": "Python 3",
   "language": "python",
   "name": "python3"
  },
  "language_info": {
   "codemirror_mode": {
    "name": "ipython",
    "version": 3
   },
   "file_extension": ".py",
   "mimetype": "text/x-python",
   "name": "python",
   "nbconvert_exporter": "python",
   "pygments_lexer": "ipython3",
   "version": "3.7.6"
  }
 },
 "nbformat": 4,
 "nbformat_minor": 4
}
